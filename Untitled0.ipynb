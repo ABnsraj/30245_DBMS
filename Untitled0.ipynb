{
  "nbformat": 4,
  "nbformat_minor": 0,
  "metadata": {
    "colab": {
      "provenance": [],
      "authorship_tag": "ABX9TyOkMD6D7gQpYTR48XlgDuWt",
      "include_colab_link": true
    },
    "kernelspec": {
      "name": "python3",
      "display_name": "Python 3"
    },
    "language_info": {
      "name": "python"
    }
  },
  "cells": [
    {
      "cell_type": "markdown",
      "metadata": {
        "id": "view-in-github",
        "colab_type": "text"
      },
      "source": [
        "<a href=\"https://colab.research.google.com/github/ABnsraj/30245_DBMS/blob/main/Untitled0.ipynb\" target=\"_parent\"><img src=\"https://colab.research.google.com/assets/colab-badge.svg\" alt=\"Open In Colab\"/></a>"
      ]
    },
    {
      "cell_type": "code",
      "execution_count": 1,
      "metadata": {
        "id": "zGZinez4dTKZ"
      },
      "outputs": [],
      "source": [
        "import math as m"
      ]
    },
    {
      "cell_type": "code",
      "source": [
        "import math as m\n",
        "X=m.sqrt(81)\n",
        "print(\"The sqaure root of 81 is \",round(X,2))"
      ],
      "metadata": {
        "colab": {
          "base_uri": "https://localhost:8080/"
        },
        "id": "WOxzbKrRdZTo",
        "outputId": "e552f644-261b-44fe-fb72-ad16191c4737"
      },
      "execution_count": 2,
      "outputs": [
        {
          "output_type": "stream",
          "name": "stdout",
          "text": [
            "The sqaure root of 81 is  9.0\n"
          ]
        }
      ]
    },
    {
      "cell_type": "code",
      "source": [
        "import numpy as np\n",
        "x=np.array([[1,2,3],[3,4,5]])\n",
        "np.size(x)"
      ],
      "metadata": {
        "colab": {
          "base_uri": "https://localhost:8080/"
        },
        "id": "kPffxbzUeUNb",
        "outputId": "29ef0744-f4f8-4f1d-d0b0-3f5479dc6de7"
      },
      "execution_count": 4,
      "outputs": [
        {
          "output_type": "execute_result",
          "data": {
            "text/plain": [
              "6"
            ]
          },
          "metadata": {},
          "execution_count": 4
        }
      ]
    },
    {
      "cell_type": "code",
      "source": [],
      "metadata": {
        "id": "DLgVCGu-daoZ"
      },
      "execution_count": null,
      "outputs": []
    }
  ]
}